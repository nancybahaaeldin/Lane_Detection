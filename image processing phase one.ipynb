{
 "cells": [
  {
   "cell_type": "code",
   "execution_count": null,
   "id": "7b044c8e",
   "metadata": {},
   "outputs": [],
   "source": [
    "# Name                        IDs\n",
    "# Nancy Bahaa Eldin Atef      1701553\n",
    "# Nadin Taher Anwar           18X0031\n",
    "# Meera Mohamed Abd Elrazek   1701582\n"
   ]
  },
  {
   "cell_type": "code",
   "execution_count": 3,
   "id": "87937cee",
   "metadata": {},
   "outputs": [
    {
     "name": "stdout",
     "output_type": "stream",
     "text": [
      "C:\\Users\\FLASH\\Desktop\\image_processing 2\\Advanced-Lane-Lines\\Advanced-Lane-Lines\\Advanced-Lane-Lines\n"
     ]
    },
    {
     "name": "stderr",
     "output_type": "stream",
     "text": [
      "Cloning into 'Advanced-Lane-Lines'...\n",
      "Updating files:  65% (59/90)\n",
      "Updating files:  66% (60/90)\n",
      "Updating files:  67% (61/90)\n",
      "Updating files:  68% (62/90)\n",
      "Updating files:  70% (63/90)\n",
      "Updating files:  71% (64/90)\n",
      "Updating files:  72% (65/90)\n",
      "Updating files:  73% (66/90)\n",
      "Updating files:  74% (67/90)\n",
      "Updating files:  75% (68/90)\n",
      "Updating files:  76% (69/90)\n",
      "Updating files:  77% (70/90)\n",
      "Updating files:  78% (71/90)\n",
      "Updating files:  80% (72/90)\n",
      "Updating files:  81% (73/90)\n",
      "Updating files:  82% (74/90)\n",
      "Updating files:  83% (75/90)\n",
      "Updating files:  84% (76/90)\n",
      "Updating files:  85% (77/90)\n",
      "Updating files:  86% (78/90)\n",
      "Updating files:  87% (79/90)\n",
      "Updating files:  88% (80/90)\n",
      "Updating files:  90% (81/90)\n",
      "Updating files:  91% (82/90)\n",
      "Updating files:  92% (83/90)\n",
      "Updating files:  93% (84/90)\n",
      "Updating files:  94% (85/90)\n",
      "Updating files:  95% (86/90)\n",
      "Updating files:  96% (87/90)\n",
      "Updating files:  97% (88/90)\n",
      "Updating files:  98% (89/90)\n",
      "Updating files: 100% (90/90)\n",
      "Updating files: 100% (90/90), done.\n"
     ]
    }
   ],
   "source": [
    "!git clone https://github.com/Dt-Pham/Advanced-Lane-Lines.git\n",
    "%cd Advanced-Lane-Lines/"
   ]
  },
  {
   "cell_type": "code",
   "execution_count": 5,
   "id": "34040959",
   "metadata": {},
   "outputs": [],
   "source": [
    "import numpy as np\n",
    "import matplotlib.image as mpimg\n",
    "import cv2\n",
    "from docopt import docopt\n",
    "from IPython.display import HTML\n",
    "from IPython.core.display import Video\n",
    "from moviepy.editor import VideoFileClip\n",
    "from CameraCalibration import CameraCalibration\n",
    "from Thresholding import *\n",
    "from PerspectiveTransformation import *\n",
    "from LaneLines import *"
   ]
  },
  {
   "cell_type": "code",
   "execution_count": 8,
   "id": "cb6ec937",
   "metadata": {},
   "outputs": [
    {
     "name": "stdout",
     "output_type": "stream",
     "text": [
      "Moviepy - Building video output.mp4.\n",
      "Moviepy - Writing video output.mp4\n",
      "\n"
     ]
    },
    {
     "name": "stderr",
     "output_type": "stream",
     "text": [
      "                                                                                                                       \r"
     ]
    },
    {
     "name": "stdout",
     "output_type": "stream",
     "text": [
      "Moviepy - Done !\n",
      "Moviepy - video ready output.mp4\n"
     ]
    }
   ],
   "source": [
    "class FindLaneLines:\n",
    "    def __init__(self):\n",
    "        \"\"\" Init Application\"\"\"\n",
    "        self.calibration = CameraCalibration('camera_cal', 9, 6) #calibrate the camera using the chess board\n",
    "        self.thresholding = Thresholding() #converting the image from color to greyscale \"image segmentation\"\n",
    "        self.transform = PerspectiveTransformation() #to allign the image properly \n",
    "        self.lanelines = LaneLines() #to detect lane lines \n",
    "        \n",
    "           #to calculate the destortion of the car away from it's center and the radius of curvature \n",
    "    def forward(self, img):\n",
    "        out_img = np.copy(img)\n",
    "        img = self.calibration.undistort(img) #calibrate the camera using the chess board \n",
    "        img = self.transform.forward(img)\n",
    "        img = self.thresholding.forward(img)\n",
    "        img = self.lanelines.forward(img)\n",
    "        img = self.transform.backward(img)\n",
    "\n",
    "        #A way of adding images is through blending them so that they both can be visible together.\"addweighted\"\n",
    "        out_img = cv2.addWeighted(out_img, 1, img, 0.6, 0) #img = cv2.addWeighted(source1, alpha, source2, beta, gamma[, dst[, dtype]])\n",
    "        out_img = self.lanelines.plot(out_img) #plot what is happening in the lane lines in the form of image \"right\"\"left\"\"forward\"\n",
    "        return out_img\n",
    "\n",
    "    def process_image(self, input_path, output_path):\n",
    "        img = mpimg.imread(input_path) #Read an image from a file into an array\n",
    "        out_img = self.forward(img)\n",
    "        mpimg.imsave(output_path, out_img) #Save an array as an image file.\n",
    "\n",
    "    def process_video(self, input_path, output_path):\n",
    "        clip = VideoFileClip(input_path) #A video clip originating from a movie file\n",
    "        out_clip = clip.fl_image(self.forward)  #The fl_image function accepts an image function as parameter\n",
    "        out_clip.write_videofile(output_path, audio=False) #To write a clip as a video file , don't render audio\n",
    "\n",
    "def main():\n",
    "    findLaneLines = FindLaneLines() #function for finding lane lines\n",
    "    findLaneLines.process_video(\"project_video.mp4\",\"output.mp4\") #to process the desired video and having the output \n",
    "\n",
    "if __name__ == \"__main__\":\n",
    "    main()"
   ]
  },
  {
   "cell_type": "code",
   "execution_count": null,
   "id": "3e91efbc",
   "metadata": {},
   "outputs": [],
   "source": []
  }
 ],
 "metadata": {
  "kernelspec": {
   "display_name": "Python 3 (ipykernel)",
   "language": "python",
   "name": "python3"
  },
  "language_info": {
   "codemirror_mode": {
    "name": "ipython",
    "version": 3
   },
   "file_extension": ".py",
   "mimetype": "text/x-python",
   "name": "python",
   "nbconvert_exporter": "python",
   "pygments_lexer": "ipython3",
   "version": "3.9.7"
  }
 },
 "nbformat": 4,
 "nbformat_minor": 5
}
